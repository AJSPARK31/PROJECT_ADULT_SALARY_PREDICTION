{
 "cells": [
  {
   "cell_type": "code",
   "execution_count": 1,
   "id": "c872e41f",
   "metadata": {},
   "outputs": [
    {
     "name": "stderr",
     "output_type": "stream",
     "text": [
      "UsageError: Line magic function `%matplotlib.inline` not found.\n"
     ]
    }
   ],
   "source": [
    "# importing important libraries\n",
    "import numpy as np\n",
    "import pandas as pd\n",
    "from sklearn.preprocessing import LabelEncoder  , OrdinalEncoder , OneHotEncoder , MinMaxScaler , StandardScaler\n",
    "from sklearn.model_selection import train_test_split \n",
    "from sklearn.linear_model import LogisticRegression\n",
    "import matplotlib.pyplot as plt\n",
    "import seaborn as sns\n",
    "%matplotlib.inline"
   ]
  },
  {
   "cell_type": "code",
   "execution_count": 3,
   "id": "379250de",
   "metadata": {},
   "outputs": [],
   "source": [
    "# importing the data set\n",
    "train_data=pd.read_csv('adult_data.csv')"
   ]
  },
  {
   "cell_type": "code",
   "execution_count": 8,
   "id": "10d82b7d",
   "metadata": {},
   "outputs": [
    {
     "data": {
      "text/html": [
       "<div>\n",
       "<style scoped>\n",
       "    .dataframe tbody tr th:only-of-type {\n",
       "        vertical-align: middle;\n",
       "    }\n",
       "\n",
       "    .dataframe tbody tr th {\n",
       "        vertical-align: top;\n",
       "    }\n",
       "\n",
       "    .dataframe thead th {\n",
       "        text-align: right;\n",
       "    }\n",
       "</style>\n",
       "<table border=\"1\" class=\"dataframe\">\n",
       "  <thead>\n",
       "    <tr style=\"text-align: right;\">\n",
       "      <th></th>\n",
       "      <th>age</th>\n",
       "      <th>workclass</th>\n",
       "      <th>fnlwgt</th>\n",
       "      <th>education</th>\n",
       "      <th>education-num</th>\n",
       "      <th>marital-status</th>\n",
       "      <th>occupation</th>\n",
       "      <th>relationship</th>\n",
       "      <th>race</th>\n",
       "      <th>sex</th>\n",
       "      <th>capital-gain</th>\n",
       "      <th>capital-loss</th>\n",
       "      <th>hours-per-week</th>\n",
       "      <th>native-country</th>\n",
       "      <th>salary</th>\n",
       "    </tr>\n",
       "  </thead>\n",
       "  <tbody>\n",
       "    <tr>\n",
       "      <th>0</th>\n",
       "      <td>39</td>\n",
       "      <td>State-gov</td>\n",
       "      <td>77516</td>\n",
       "      <td>Bachelors</td>\n",
       "      <td>13</td>\n",
       "      <td>Never-married</td>\n",
       "      <td>Adm-clerical</td>\n",
       "      <td>Not-in-family</td>\n",
       "      <td>White</td>\n",
       "      <td>Male</td>\n",
       "      <td>2174</td>\n",
       "      <td>0</td>\n",
       "      <td>40</td>\n",
       "      <td>United-States</td>\n",
       "      <td>&lt;=50K</td>\n",
       "    </tr>\n",
       "    <tr>\n",
       "      <th>1</th>\n",
       "      <td>50</td>\n",
       "      <td>Self-emp-not-inc</td>\n",
       "      <td>83311</td>\n",
       "      <td>Bachelors</td>\n",
       "      <td>13</td>\n",
       "      <td>Married-civ-spouse</td>\n",
       "      <td>Exec-managerial</td>\n",
       "      <td>Husband</td>\n",
       "      <td>White</td>\n",
       "      <td>Male</td>\n",
       "      <td>0</td>\n",
       "      <td>0</td>\n",
       "      <td>13</td>\n",
       "      <td>United-States</td>\n",
       "      <td>&lt;=50K</td>\n",
       "    </tr>\n",
       "    <tr>\n",
       "      <th>2</th>\n",
       "      <td>38</td>\n",
       "      <td>Private</td>\n",
       "      <td>215646</td>\n",
       "      <td>HS-grad</td>\n",
       "      <td>9</td>\n",
       "      <td>Divorced</td>\n",
       "      <td>Handlers-cleaners</td>\n",
       "      <td>Not-in-family</td>\n",
       "      <td>White</td>\n",
       "      <td>Male</td>\n",
       "      <td>0</td>\n",
       "      <td>0</td>\n",
       "      <td>40</td>\n",
       "      <td>United-States</td>\n",
       "      <td>&lt;=50K</td>\n",
       "    </tr>\n",
       "    <tr>\n",
       "      <th>3</th>\n",
       "      <td>53</td>\n",
       "      <td>Private</td>\n",
       "      <td>234721</td>\n",
       "      <td>11th</td>\n",
       "      <td>7</td>\n",
       "      <td>Married-civ-spouse</td>\n",
       "      <td>Handlers-cleaners</td>\n",
       "      <td>Husband</td>\n",
       "      <td>Black</td>\n",
       "      <td>Male</td>\n",
       "      <td>0</td>\n",
       "      <td>0</td>\n",
       "      <td>40</td>\n",
       "      <td>United-States</td>\n",
       "      <td>&lt;=50K</td>\n",
       "    </tr>\n",
       "    <tr>\n",
       "      <th>4</th>\n",
       "      <td>28</td>\n",
       "      <td>Private</td>\n",
       "      <td>338409</td>\n",
       "      <td>Bachelors</td>\n",
       "      <td>13</td>\n",
       "      <td>Married-civ-spouse</td>\n",
       "      <td>Prof-specialty</td>\n",
       "      <td>Wife</td>\n",
       "      <td>Black</td>\n",
       "      <td>Female</td>\n",
       "      <td>0</td>\n",
       "      <td>0</td>\n",
       "      <td>40</td>\n",
       "      <td>Cuba</td>\n",
       "      <td>&lt;=50K</td>\n",
       "    </tr>\n",
       "  </tbody>\n",
       "</table>\n",
       "</div>"
      ],
      "text/plain": [
       "   age          workclass   fnlwgt   education   education-num  \\\n",
       "0   39          State-gov    77516   Bachelors              13   \n",
       "1   50   Self-emp-not-inc    83311   Bachelors              13   \n",
       "2   38            Private   215646     HS-grad               9   \n",
       "3   53            Private   234721        11th               7   \n",
       "4   28            Private   338409   Bachelors              13   \n",
       "\n",
       "        marital-status          occupation    relationship    race      sex  \\\n",
       "0        Never-married        Adm-clerical   Not-in-family   White     Male   \n",
       "1   Married-civ-spouse     Exec-managerial         Husband   White     Male   \n",
       "2             Divorced   Handlers-cleaners   Not-in-family   White     Male   \n",
       "3   Married-civ-spouse   Handlers-cleaners         Husband   Black     Male   \n",
       "4   Married-civ-spouse      Prof-specialty            Wife   Black   Female   \n",
       "\n",
       "    capital-gain   capital-loss   hours-per-week  native-country  salary  \n",
       "0           2174              0               40   United-States   <=50K  \n",
       "1              0              0               13   United-States   <=50K  \n",
       "2              0              0               40   United-States   <=50K  \n",
       "3              0              0               40   United-States   <=50K  \n",
       "4              0              0               40            Cuba   <=50K  "
      ]
     },
     "execution_count": 8,
     "metadata": {},
     "output_type": "execute_result"
    }
   ],
   "source": [
    "train_data.head()"
   ]
  },
  {
   "cell_type": "code",
   "execution_count": 9,
   "id": "ecc2772c",
   "metadata": {},
   "outputs": [
    {
     "data": {
      "text/plain": [
       "age                0\n",
       " workclass         0\n",
       " fnlwgt            0\n",
       " education         0\n",
       " education-num     0\n",
       " marital-status    0\n",
       " occupation        0\n",
       " relationship      0\n",
       " race              0\n",
       " sex               0\n",
       " capital-gain      0\n",
       " capital-loss      0\n",
       " hours-per-week    0\n",
       " native-country    0\n",
       " salary            0\n",
       "dtype: int64"
      ]
     },
     "execution_count": 9,
     "metadata": {},
     "output_type": "execute_result"
    }
   ],
   "source": [
    "train_data.isnull().sum()"
   ]
  },
  {
   "cell_type": "code",
   "execution_count": 10,
   "id": "67948a04",
   "metadata": {},
   "outputs": [
    {
     "data": {
      "text/plain": [
       "age                   73\n",
       " workclass             9\n",
       " fnlwgt            21648\n",
       " education            16\n",
       " education-num        16\n",
       " marital-status        7\n",
       " occupation           15\n",
       " relationship          6\n",
       " race                  5\n",
       " sex                   2\n",
       " capital-gain        119\n",
       " capital-loss         92\n",
       " hours-per-week       94\n",
       " native-country       42\n",
       " salary                2\n",
       "dtype: int64"
      ]
     },
     "execution_count": 10,
     "metadata": {},
     "output_type": "execute_result"
    }
   ],
   "source": [
    "train_data.nunique()"
   ]
  },
  {
   "cell_type": "code",
   "execution_count": 11,
   "id": "c4aa2e4d",
   "metadata": {},
   "outputs": [
    {
     "name": "stdout",
     "output_type": "stream",
     "text": [
      "<class 'pandas.core.frame.DataFrame'>\n",
      "RangeIndex: 32561 entries, 0 to 32560\n",
      "Data columns (total 15 columns):\n",
      " #   Column           Non-Null Count  Dtype \n",
      "---  ------           --------------  ----- \n",
      " 0   age              32561 non-null  int64 \n",
      " 1    workclass       32561 non-null  object\n",
      " 2    fnlwgt          32561 non-null  int64 \n",
      " 3    education       32561 non-null  object\n",
      " 4    education-num   32561 non-null  int64 \n",
      " 5    marital-status  32561 non-null  object\n",
      " 6    occupation      32561 non-null  object\n",
      " 7    relationship    32561 non-null  object\n",
      " 8    race            32561 non-null  object\n",
      " 9    sex             32561 non-null  object\n",
      " 10   capital-gain    32561 non-null  int64 \n",
      " 11   capital-loss    32561 non-null  int64 \n",
      " 12   hours-per-week  32561 non-null  int64 \n",
      " 13   native-country  32561 non-null  object\n",
      " 14   salary          32561 non-null  object\n",
      "dtypes: int64(6), object(9)\n",
      "memory usage: 3.7+ MB\n"
     ]
    }
   ],
   "source": [
    "train_data.info()"
   ]
  },
  {
   "cell_type": "code",
   "execution_count": 12,
   "id": "a4efd953",
   "metadata": {},
   "outputs": [
    {
     "data": {
      "text/html": [
       "<div>\n",
       "<style scoped>\n",
       "    .dataframe tbody tr th:only-of-type {\n",
       "        vertical-align: middle;\n",
       "    }\n",
       "\n",
       "    .dataframe tbody tr th {\n",
       "        vertical-align: top;\n",
       "    }\n",
       "\n",
       "    .dataframe thead th {\n",
       "        text-align: right;\n",
       "    }\n",
       "</style>\n",
       "<table border=\"1\" class=\"dataframe\">\n",
       "  <thead>\n",
       "    <tr style=\"text-align: right;\">\n",
       "      <th></th>\n",
       "      <th>age</th>\n",
       "      <th>fnlwgt</th>\n",
       "      <th>education-num</th>\n",
       "      <th>capital-gain</th>\n",
       "      <th>capital-loss</th>\n",
       "      <th>hours-per-week</th>\n",
       "    </tr>\n",
       "  </thead>\n",
       "  <tbody>\n",
       "    <tr>\n",
       "      <th>count</th>\n",
       "      <td>32561.000000</td>\n",
       "      <td>3.256100e+04</td>\n",
       "      <td>32561.000000</td>\n",
       "      <td>32561.000000</td>\n",
       "      <td>32561.000000</td>\n",
       "      <td>32561.000000</td>\n",
       "    </tr>\n",
       "    <tr>\n",
       "      <th>mean</th>\n",
       "      <td>38.581647</td>\n",
       "      <td>1.897784e+05</td>\n",
       "      <td>10.080679</td>\n",
       "      <td>1077.648844</td>\n",
       "      <td>87.303830</td>\n",
       "      <td>40.437456</td>\n",
       "    </tr>\n",
       "    <tr>\n",
       "      <th>std</th>\n",
       "      <td>13.640433</td>\n",
       "      <td>1.055500e+05</td>\n",
       "      <td>2.572720</td>\n",
       "      <td>7385.292085</td>\n",
       "      <td>402.960219</td>\n",
       "      <td>12.347429</td>\n",
       "    </tr>\n",
       "    <tr>\n",
       "      <th>min</th>\n",
       "      <td>17.000000</td>\n",
       "      <td>1.228500e+04</td>\n",
       "      <td>1.000000</td>\n",
       "      <td>0.000000</td>\n",
       "      <td>0.000000</td>\n",
       "      <td>1.000000</td>\n",
       "    </tr>\n",
       "    <tr>\n",
       "      <th>25%</th>\n",
       "      <td>28.000000</td>\n",
       "      <td>1.178270e+05</td>\n",
       "      <td>9.000000</td>\n",
       "      <td>0.000000</td>\n",
       "      <td>0.000000</td>\n",
       "      <td>40.000000</td>\n",
       "    </tr>\n",
       "    <tr>\n",
       "      <th>50%</th>\n",
       "      <td>37.000000</td>\n",
       "      <td>1.783560e+05</td>\n",
       "      <td>10.000000</td>\n",
       "      <td>0.000000</td>\n",
       "      <td>0.000000</td>\n",
       "      <td>40.000000</td>\n",
       "    </tr>\n",
       "    <tr>\n",
       "      <th>75%</th>\n",
       "      <td>48.000000</td>\n",
       "      <td>2.370510e+05</td>\n",
       "      <td>12.000000</td>\n",
       "      <td>0.000000</td>\n",
       "      <td>0.000000</td>\n",
       "      <td>45.000000</td>\n",
       "    </tr>\n",
       "    <tr>\n",
       "      <th>max</th>\n",
       "      <td>90.000000</td>\n",
       "      <td>1.484705e+06</td>\n",
       "      <td>16.000000</td>\n",
       "      <td>99999.000000</td>\n",
       "      <td>4356.000000</td>\n",
       "      <td>99.000000</td>\n",
       "    </tr>\n",
       "  </tbody>\n",
       "</table>\n",
       "</div>"
      ],
      "text/plain": [
       "                age        fnlwgt   education-num   capital-gain  \\\n",
       "count  32561.000000  3.256100e+04    32561.000000   32561.000000   \n",
       "mean      38.581647  1.897784e+05       10.080679    1077.648844   \n",
       "std       13.640433  1.055500e+05        2.572720    7385.292085   \n",
       "min       17.000000  1.228500e+04        1.000000       0.000000   \n",
       "25%       28.000000  1.178270e+05        9.000000       0.000000   \n",
       "50%       37.000000  1.783560e+05       10.000000       0.000000   \n",
       "75%       48.000000  2.370510e+05       12.000000       0.000000   \n",
       "max       90.000000  1.484705e+06       16.000000   99999.000000   \n",
       "\n",
       "        capital-loss   hours-per-week  \n",
       "count   32561.000000     32561.000000  \n",
       "mean       87.303830        40.437456  \n",
       "std       402.960219        12.347429  \n",
       "min         0.000000         1.000000  \n",
       "25%         0.000000        40.000000  \n",
       "50%         0.000000        40.000000  \n",
       "75%         0.000000        45.000000  \n",
       "max      4356.000000        99.000000  "
      ]
     },
     "execution_count": 12,
     "metadata": {},
     "output_type": "execute_result"
    }
   ],
   "source": [
    "train_data.describe()"
   ]
  },
  {
   "cell_type": "code",
   "execution_count": 14,
   "id": "19c65b6c",
   "metadata": {},
   "outputs": [
    {
     "data": {
      "text/plain": [
       "(32561, 15)"
      ]
     },
     "execution_count": 14,
     "metadata": {},
     "output_type": "execute_result"
    }
   ],
   "source": [
    "train_data.shape"
   ]
  },
  {
   "cell_type": "code",
   "execution_count": 19,
   "id": "fcbdcb02",
   "metadata": {},
   "outputs": [],
   "source": [
    "def handle_capital_gain(df):\n",
    "    df['capital_gain'] = np.where(df['capital_gain'] == 0, np.nan, df['capital_gain'])\n",
    "    df['capital_gain'] = np.log(df['capital_gain'])\n",
    "    df['capital_gain'] = df['capital_gain'].replace(np.nan, 0)"
   ]
  },
  {
   "cell_type": "code",
   "execution_count": 20,
   "id": "c7f549c5",
   "metadata": {},
   "outputs": [],
   "source": [
    "train_data.columns = ['age','workclass', 'fnlwgt', 'education', 'education_num', 'marital_status', 'occupation',\n",
    "             'relationship', 'race', 'sex', 'capital_gain', 'capital_loss', 'hours_per_week', 'native_country', 'salary']"
   ]
  },
  {
   "cell_type": "code",
   "execution_count": 21,
   "id": "732d6eaf",
   "metadata": {},
   "outputs": [
    {
     "name": "stdout",
     "output_type": "stream",
     "text": [
      "       age          workclass  fnlwgt    education  education_num  \\\n",
      "0       39          State-gov   77516    Bachelors             13   \n",
      "1       50   Self-emp-not-inc   83311    Bachelors             13   \n",
      "2       38            Private  215646      HS-grad              9   \n",
      "3       53            Private  234721         11th              7   \n",
      "4       28            Private  338409    Bachelors             13   \n",
      "...    ...                ...     ...          ...            ...   \n",
      "32556   27            Private  257302   Assoc-acdm             12   \n",
      "32557   40            Private  154374      HS-grad              9   \n",
      "32558   58            Private  151910      HS-grad              9   \n",
      "32559   22            Private  201490      HS-grad              9   \n",
      "32560   52       Self-emp-inc  287927      HS-grad              9   \n",
      "\n",
      "            marital_status          occupation    relationship    race  \\\n",
      "0            Never-married        Adm-clerical   Not-in-family   White   \n",
      "1       Married-civ-spouse     Exec-managerial         Husband   White   \n",
      "2                 Divorced   Handlers-cleaners   Not-in-family   White   \n",
      "3       Married-civ-spouse   Handlers-cleaners         Husband   Black   \n",
      "4       Married-civ-spouse      Prof-specialty            Wife   Black   \n",
      "...                    ...                 ...             ...     ...   \n",
      "32556   Married-civ-spouse        Tech-support            Wife   White   \n",
      "32557   Married-civ-spouse   Machine-op-inspct         Husband   White   \n",
      "32558              Widowed        Adm-clerical       Unmarried   White   \n",
      "32559        Never-married        Adm-clerical       Own-child   White   \n",
      "32560   Married-civ-spouse     Exec-managerial            Wife   White   \n",
      "\n",
      "           sex  capital_gain  capital_loss  hours_per_week  native_country  \\\n",
      "0         Male          2174             0              40   United-States   \n",
      "1         Male             0             0              13   United-States   \n",
      "2         Male             0             0              40   United-States   \n",
      "3         Male             0             0              40   United-States   \n",
      "4       Female             0             0              40            Cuba   \n",
      "...        ...           ...           ...             ...             ...   \n",
      "32556   Female             0             0              38   United-States   \n",
      "32557     Male             0             0              40   United-States   \n",
      "32558   Female             0             0              40   United-States   \n",
      "32559     Male             0             0              20   United-States   \n",
      "32560   Female         15024             0              40   United-States   \n",
      "\n",
      "       salary  \n",
      "0       <=50K  \n",
      "1       <=50K  \n",
      "2       <=50K  \n",
      "3       <=50K  \n",
      "4       <=50K  \n",
      "...       ...  \n",
      "32556   <=50K  \n",
      "32557    >50K  \n",
      "32558   <=50K  \n",
      "32559   <=50K  \n",
      "32560    >50K  \n",
      "\n",
      "[32561 rows x 15 columns]\n"
     ]
    }
   ],
   "source": [
    "print(train_data)"
   ]
  },
  {
   "cell_type": "code",
   "execution_count": 22,
   "id": "32aa2260",
   "metadata": {},
   "outputs": [],
   "source": [
    "handle_capital_gain(train_data)"
   ]
  },
  {
   "cell_type": "code",
   "execution_count": 23,
   "id": "c48aa1fc",
   "metadata": {},
   "outputs": [
    {
     "name": "stdout",
     "output_type": "stream",
     "text": [
      "       age          workclass  fnlwgt    education  education_num  \\\n",
      "0       39          State-gov   77516    Bachelors             13   \n",
      "1       50   Self-emp-not-inc   83311    Bachelors             13   \n",
      "2       38            Private  215646      HS-grad              9   \n",
      "3       53            Private  234721         11th              7   \n",
      "4       28            Private  338409    Bachelors             13   \n",
      "...    ...                ...     ...          ...            ...   \n",
      "32556   27            Private  257302   Assoc-acdm             12   \n",
      "32557   40            Private  154374      HS-grad              9   \n",
      "32558   58            Private  151910      HS-grad              9   \n",
      "32559   22            Private  201490      HS-grad              9   \n",
      "32560   52       Self-emp-inc  287927      HS-grad              9   \n",
      "\n",
      "            marital_status          occupation    relationship    race  \\\n",
      "0            Never-married        Adm-clerical   Not-in-family   White   \n",
      "1       Married-civ-spouse     Exec-managerial         Husband   White   \n",
      "2                 Divorced   Handlers-cleaners   Not-in-family   White   \n",
      "3       Married-civ-spouse   Handlers-cleaners         Husband   Black   \n",
      "4       Married-civ-spouse      Prof-specialty            Wife   Black   \n",
      "...                    ...                 ...             ...     ...   \n",
      "32556   Married-civ-spouse        Tech-support            Wife   White   \n",
      "32557   Married-civ-spouse   Machine-op-inspct         Husband   White   \n",
      "32558              Widowed        Adm-clerical       Unmarried   White   \n",
      "32559        Never-married        Adm-clerical       Own-child   White   \n",
      "32560   Married-civ-spouse     Exec-managerial            Wife   White   \n",
      "\n",
      "           sex  capital_gain  capital_loss  hours_per_week  native_country  \\\n",
      "0         Male      7.684324             0              40   United-States   \n",
      "1         Male      0.000000             0              13   United-States   \n",
      "2         Male      0.000000             0              40   United-States   \n",
      "3         Male      0.000000             0              40   United-States   \n",
      "4       Female      0.000000             0              40            Cuba   \n",
      "...        ...           ...           ...             ...             ...   \n",
      "32556   Female      0.000000             0              38   United-States   \n",
      "32557     Male      0.000000             0              40   United-States   \n",
      "32558   Female      0.000000             0              40   United-States   \n",
      "32559     Male      0.000000             0              20   United-States   \n",
      "32560   Female      9.617404             0              40   United-States   \n",
      "\n",
      "       salary  \n",
      "0       <=50K  \n",
      "1       <=50K  \n",
      "2       <=50K  \n",
      "3       <=50K  \n",
      "4       <=50K  \n",
      "...       ...  \n",
      "32556   <=50K  \n",
      "32557    >50K  \n",
      "32558   <=50K  \n",
      "32559   <=50K  \n",
      "32560    >50K  \n",
      "\n",
      "[32561 rows x 15 columns]\n"
     ]
    }
   ],
   "source": [
    "print(train_data)"
   ]
  },
  {
   "cell_type": "code",
   "execution_count": 24,
   "id": "c686cd2d",
   "metadata": {},
   "outputs": [
    {
     "data": {
      "image/png": "[encoded data removed]",
      "text/plain": [
       "<Figure size 360x360 with 1 Axes>"
      ]
     },
     "metadata": {
      "needs_background": "light"
     },
     "output_type": "display_data"
    }
   ],
   "source": [
    "sns.displot(train_data['capital_gain'])\n",
    "plt.show()"
   ]
  },
  {
   "cell_type": "markdown",
   "id": "2e8a02c6",
   "metadata": {},
   "source": [
    "# REMOVING OUTLIERS FROM HOURS PER WEEK\n"
   ]
  },
  {
   "cell_type": "code",
   "execution_count": 26,
   "id": "3438c0f5",
   "metadata": {},
   "outputs": [
    {
     "data": {
      "image/png": "[encoded data removed]",
      "text/plain": [
       "<Figure size 360x360 with 1 Axes>"
      ]
     },
     "metadata": {
      "needs_background": "light"
     },
     "output_type": "display_data"
    }
   ],
   "source": [
    "sns.displot(train_data['hours_per_week'])\n",
    "plt.show()"
   ]
  },
  {
   "cell_type": "code",
   "execution_count": 27,
   "id": "b0bf4c3c",
   "metadata": {},
   "outputs": [
    {
     "name": "stderr",
     "output_type": "stream",
     "text": [
      "C:\\Users\\apawa\\anaconda3\\lib\\site-packages\\seaborn\\_decorators.py:36: FutureWarning: Pass the following variable as a keyword arg: x. From version 0.12, the only valid positional argument will be `data`, and passing other arguments without an explicit keyword will result in an error or misinterpretation.\n",
      "  warnings.warn(\n"
     ]
    },
    {
     "data": {
      "image/png": "[encoded data removed]",
      "text/plain": [
       "<Figure size 432x288 with 1 Axes>"
      ]
     },
     "metadata": {
      "needs_background": "light"
     },
     "output_type": "display_data"
    }
   ],
   "source": [
    "sns.boxplot(train_data['hours_per_week'])\n",
    "plt.show()"
   ]
  },
  {
   "cell_type": "code",
   "execution_count": 37,
   "id": "4f4e33e3",
   "metadata": {},
   "outputs": [],
   "source": [
    "def remove_outlier_from_hours_per_week(train_data):\n",
    "    IQR =train_data['hours_per_week'].quantile(.75)-train_data['hours_per_week'].quantile(.25)\n",
    "    \n",
    "    lower_range=train_data['hours_per_week'].quantile(.25)-(1.5 * IQR)\n",
    "    upper_range=train_data['hours_per_week'].quantile(.75)+(1.5 * IQR)\n",
    "    \n",
    "    train_data.loc[train_data['hours_per_week'] <= lower_range, 'hours_per_week'] = lower_range\n",
    "    train_data.loc[train_data['hours_per_week'] >= upper_range, 'hours_per_week'] = upper_range"
   ]
  },
  {
   "cell_type": "code",
   "execution_count": 38,
   "id": "691b97bf",
   "metadata": {},
   "outputs": [],
   "source": [
    "remove_outlier_from_hours_per_week(train_data)"
   ]
  },
  {
   "cell_type": "code",
   "execution_count": 39,
   "id": "b1615993",
   "metadata": {},
   "outputs": [
    {
     "data": {
      "image/png": "[encoded data removed]",
      "text/plain": [
       "<Figure size 432x288 with 1 Axes>"
      ]
     },
     "metadata": {
      "needs_background": "light"
     },
     "output_type": "display_data"
    }
   ],
   "source": [
    "sns.boxplot(data=train_data['hours_per_week'])\n",
    "plt.show()"
   ]
  },
  {
   "cell_type": "markdown",
   "id": "551ed786",
   "metadata": {},
   "source": [
    "# REMOVE OUTLIERS FROM EDUCATION NUM\n"
   ]
  },
  {
   "cell_type": "code",
   "execution_count": 46,
   "id": "9970aaa9",
   "metadata": {},
   "outputs": [
    {
     "data": {
      "image/png": "[encoded data removed]",
      "text/plain": [
       "<Figure size 432x288 with 1 Axes>"
      ]
     },
     "metadata": {
      "needs_background": "light"
     },
     "output_type": "display_data"
    }
   ],
   "source": [
    "sns.distplot(train_data['education_num'])\n",
    "plt.show()"
   ]
  },
  {
   "cell_type": "code",
   "execution_count": 47,
   "id": "0ea71e6d",
   "metadata": {},
   "outputs": [
    {
     "name": "stderr",
     "output_type": "stream",
     "text": [
      "C:\\Users\\apawa\\anaconda3\\lib\\site-packages\\seaborn\\_decorators.py:36: FutureWarning: Pass the following variable as a keyword arg: x. From version 0.12, the only valid positional argument will be `data`, and passing other arguments without an explicit keyword will result in an error or misinterpretation.\n",
      "  warnings.warn(\n"
     ]
    },
    {
     "data": {
      "image/png": "[encoded data removed]",
      "text/plain": [
       "<Figure size 432x288 with 1 Axes>"
      ]
     },
     "metadata": {
      "needs_background": "light"
     },
     "output_type": "display_data"
    }
   ],
   "source": [
    "sns.boxplot(train_data['education_num'])\n",
    "plt.show()"
   ]
  },
  {
   "cell_type": "code",
   "execution_count": 49,
   "id": "4c87f56a",
   "metadata": {},
   "outputs": [],
   "source": [
    "def remove_outlier_education_num(train_data):\n",
    "    IQR = train_data['education_num'].quantile(0.75) - train_data['education_num'].quantile(0.25)\n",
    "    \n",
    "    lower_range = train_data['education_num'].quantile(0.25) - (1.5 * IQR)\n",
    "    upper_range = train_data['education_num'].quantile(0.75) + (1.5 * IQR)\n",
    "    \n",
    "    train_data.loc[train_data['education_num'] <= lower_range, 'education_num'] = lower_range\n",
    "    train_data.loc[train_data['education_num'] >= upper_range, 'education_num'] = upper_range"
   ]
  },
  {
   "cell_type": "code",
   "execution_count": 50,
   "id": "e937610d",
   "metadata": {},
   "outputs": [],
   "source": [
    "remove_outlier_education_num(train_data)"
   ]
  },
  {
   "cell_type": "code",
   "execution_count": 51,
   "id": "4b1587c6",
   "metadata": {},
   "outputs": [
    {
     "data": {
      "image/png": "[encoded data removed]",
      "text/plain": [
       "<Figure size 432x288 with 1 Axes>"
      ]
     },
     "metadata": {
      "needs_background": "light"
     },
     "output_type": "display_data"
    }
   ],
   "source": [
    "sns.boxplot(data=train_data['education_num'])\n",
    "plt.show()"
   ]
  },
  {
   "cell_type": "markdown",
   "id": "86925f01",
   "metadata": {},
   "source": [
    "# REMOVE OUTLIERS FROM CAPITAL LOSS"
   ]
  },
  {
   "cell_type": "code",
   "execution_count": 53,
   "id": "21de6bf0",
   "metadata": {},
   "outputs": [
    {
     "data": {
      "image/png": "[encoded data removed]",
      "text/plain": [
       "<Figure size 360x360 with 1 Axes>"
      ]
     },
     "metadata": {
      "needs_background": "light"
     },
     "output_type": "display_data"
    }
   ],
   "source": [
    "sns.displot(train_data['capital_loss'])\n",
    "plt.show()"
   ]
  },
  {
   "cell_type": "code",
   "execution_count": 54,
   "id": "cf165257",
   "metadata": {},
   "outputs": [
    {
     "data": {
      "image/png": "[encoded data removed]",
      "text/plain": [
       "<Figure size 432x288 with 1 Axes>"
      ]
     },
     "metadata": {
      "needs_background": "light"
     },
     "output_type": "display_data"
    }
   ],
   "source": [
    "sns.boxplot(data=train_data['capital_loss'])\n",
    "plt.show()"
   ]
  },
  {
   "cell_type": "code",
   "execution_count": 57,
   "id": "c60dc469",
   "metadata": {},
   "outputs": [],
   "source": [
    "def capital_loss_log(train_data):\n",
    "    train_data['capital_loss'] = np.where(train_data['capital_loss'] == 0, np.nan, train_data['capital_loss'])\n",
    "    train_data['capital_loss'] = np.log(train_data['capital_loss'])\n",
    "    train_data['capital_loss'] = train_data['capital_loss'].replace(np.nan, 0)"
   ]
  },
  {
   "cell_type": "code",
   "execution_count": 58,
   "id": "6eb9cf41",
   "metadata": {},
   "outputs": [],
   "source": [
    "capital_loss_log(train_data)"
   ]
  },
  {
   "cell_type": "code",
   "execution_count": 59,
   "id": "c39563e0",
   "metadata": {},
   "outputs": [
    {
     "data": {
      "image/png": "[encoded data removed]",
      "text/plain": [
       "<Figure size 432x288 with 1 Axes>"
      ]
     },
     "metadata": {
      "needs_background": "light"
     },
     "output_type": "display_data"
    }
   ],
   "source": [
    "sns.boxplot(data=train_data['capital_loss'])\n",
    "plt.show()"
   ]
  },
  {
   "cell_type": "code",
   "execution_count": 60,
   "id": "da7d6e31",
   "metadata": {},
   "outputs": [],
   "source": [
    "def remove_outliers_from_capital_loss(train_data):\n",
    "    IQR = train_data['capital_loss'].quantile(.75)-train_data['capital_loss'].quantile(.25)\n",
    "    \n",
    "    lower_range=train_data['capital_loss'].quantile(.25)-(1.5 * IQR)\n",
    "    upper_range=train_data['capital_loss'].quantile(.75)+(1.5 * IQR)\n",
    "    \n",
    "    train_data.loc[train_data['capital_loss']<=lower_range,'capital_loss']=lower_range\n",
    "    train_data.loc[train_data['capital_loss']>=upper_range,'capital_loss']=upper_range"
   ]
  },
  {
   "cell_type": "code",
   "execution_count": 61,
   "id": "e450c55b",
   "metadata": {},
   "outputs": [],
   "source": [
    "remove_outliers_from_capital_loss(train_data)"
   ]
  },
  {
   "cell_type": "code",
   "execution_count": 62,
   "id": "86cf460a",
   "metadata": {},
   "outputs": [
    {
     "data": {
      "image/png": "[encoded data removed]",
      "text/plain": [
       "<Figure size 432x288 with 1 Axes>"
      ]
     },
     "metadata": {
      "needs_background": "light"
     },
     "output_type": "display_data"
    }
   ],
   "source": [
    "sns.boxplot(data=train_data['capital_loss'])\n",
    "plt.show()"
   ]
  },
  {
   "cell_type": "markdown",
   "id": "5bb82505",
   "metadata": {},
   "source": [
    "# TRAIN TEST SPLIT"
   ]
  },
  {
   "cell_type": "code",
   "execution_count": 64,
   "id": "cb3d3fc0",
   "metadata": {},
   "outputs": [],
   "source": [
    "X=train_data.iloc[:,:-1]\n",
    "y=train_data.iloc[:,-1]\n",
    "X_train,X_test,y_train,y_test=train_test_split(X,y,test_size=.20,random_state=42)"
   ]
  },
  {
   "cell_type": "code",
   "execution_count": 65,
   "id": "b552ff17",
   "metadata": {},
   "outputs": [
    {
     "name": "stdout",
     "output_type": "stream",
     "text": [
      "(26048, 14)\n",
      "(6513, 14)\n",
      "(26048,)\n",
      "(6513,)\n"
     ]
    }
   ],
   "source": [
    "print(X_train.shape)\n",
    "print(X_test.shape)\n",
    "print(y_train.shape)\n",
    "print(y_test.shape)"
   ]
  },
  {
   "cell_type": "code",
   "execution_count": 66,
   "id": "7489c8f0",
   "metadata": {},
   "outputs": [],
   "source": [
    "# splitting the data into categorical and numerical data \n",
    "X_train_cat=X_train.select_dtypes(include='object')\n",
    "X_train_num=X_train.select_dtypes(include=['int32','int64','float32','float64'])\n",
    "X_test_cat=X_test.select_dtypes(include='object')\n",
    "X_test_num=X_test.select_dtypes(include=['int32','int64','float32','float64'])\n"
   ]
  },
  {
   "cell_type": "code",
   "execution_count": 67,
   "id": "9a4adc70",
   "metadata": {},
   "outputs": [
    {
     "name": "stdout",
     "output_type": "stream",
     "text": [
      "               workclass      education       marital_status  \\\n",
      "5514           Local-gov      Bachelors        Never-married   \n",
      "19777            Private      Assoc-voc   Married-civ-spouse   \n",
      "10781   Self-emp-not-inc            9th            Separated   \n",
      "32240            Private      Assoc-voc   Married-civ-spouse   \n",
      "9876             Private   Some-college             Divorced   \n",
      "...                  ...            ...                  ...   \n",
      "29802            Private      Bachelors   Married-civ-spouse   \n",
      "5390             Private           12th             Divorced   \n",
      "860              Private           11th        Never-married   \n",
      "15795   Self-emp-not-inc        HS-grad   Married-civ-spouse   \n",
      "23654       Self-emp-inc      Bachelors             Divorced   \n",
      "\n",
      "             occupation    relationship    race      sex  native_country  \n",
      "5514     Prof-specialty   Not-in-family   White   Female   United-States  \n",
      "19777   Exec-managerial         Husband   White     Male   United-States  \n",
      "10781      Craft-repair   Not-in-family   White     Male   United-States  \n",
      "32240   Farming-fishing         Husband   White     Male   United-States  \n",
      "9876      Other-service   Not-in-family   White     Male   United-States  \n",
      "...                 ...             ...     ...      ...             ...  \n",
      "29802      Craft-repair         Husband   White     Male   United-States  \n",
      "5390      Other-service       Unmarried   White   Female   United-States  \n",
      "860        Adm-clerical       Own-child   White   Female   United-States  \n",
      "15795   Farming-fishing         Husband   White     Male   United-States  \n",
      "23654   Farming-fishing   Not-in-family   White     Male   United-States  \n",
      "\n",
      "[26048 rows x 8 columns]\n",
      "               workclass      education       marital_status  \\\n",
      "14160            Private   Some-college             Divorced   \n",
      "27048          State-gov        HS-grad   Married-civ-spouse   \n",
      "28868            Private      Bachelors   Married-civ-spouse   \n",
      "5667             Private      Bachelors        Never-married   \n",
      "7827    Self-emp-not-inc   Some-college             Divorced   \n",
      "...                  ...            ...                  ...   \n",
      "1338             Private      Bachelors             Divorced   \n",
      "24534          Local-gov   Some-college   Married-civ-spouse   \n",
      "18080            Private    Prof-school   Married-civ-spouse   \n",
      "10354            Private      Bachelors        Never-married   \n",
      "24639            Private        HS-grad        Never-married   \n",
      "\n",
      "               occupation    relationship    race      sex  native_country  \n",
      "14160        Adm-clerical   Not-in-family   White   Female   United-States  \n",
      "27048     Exec-managerial            Wife   White   Female   United-States  \n",
      "28868     Exec-managerial         Husband   Black     Male   United-States  \n",
      "5667    Machine-op-inspct   Not-in-family   White   Female   United-States  \n",
      "7827         Craft-repair   Not-in-family   White     Male   United-States  \n",
      "...                   ...             ...     ...      ...             ...  \n",
      "1338         Tech-support       Own-child   White   Female   United-States  \n",
      "24534      Prof-specialty         Husband   White     Male   United-States  \n",
      "18080      Prof-specialty         Husband   White     Male   United-States  \n",
      "10354        Adm-clerical   Not-in-family   White   Female   United-States  \n",
      "24639       Other-service   Not-in-family   White     Male   United-States  \n",
      "\n",
      "[6513 rows x 8 columns]\n",
      "       age  fnlwgt  education_num  capital_gain  capital_loss  hours_per_week\n",
      "5514    33  198183           13.0           0.0           0.0            50.0\n",
      "19777   36   86459           11.0           0.0           0.0            50.0\n",
      "10781   58  203039            5.0           0.0           0.0            40.0\n",
      "32240   21  180190           11.0           0.0           0.0            46.0\n",
      "9876    27  279872           10.0           0.0           0.0            40.0\n",
      "...    ...     ...            ...           ...           ...             ...\n",
      "29802   47  359461           13.0           0.0           0.0            40.0\n",
      "5390    31  147215            8.0           0.0           0.0            32.5\n",
      "860     18  216284            7.0           0.0           0.0            32.5\n",
      "15795   50   54261            9.0           0.0           0.0            52.5\n",
      "23654   34  127651           13.0           0.0           0.0            52.5\n",
      "\n",
      "[26048 rows x 6 columns]\n",
      "       age  fnlwgt  education_num  capital_gain  capital_loss  hours_per_week\n",
      "14160   27  160178           10.0      0.000000           0.0            38.0\n",
      "27048   45   50567            9.0      0.000000           0.0            40.0\n",
      "28868   29  185908           13.0      0.000000           0.0            52.5\n",
      "5667    30  190040           13.0      0.000000           0.0            40.0\n",
      "7827    29  189346           10.0      7.697121           0.0            50.0\n",
      "...    ...     ...            ...           ...           ...             ...\n",
      "1338    71  269708           13.0      7.753194           0.0            32.5\n",
      "24534   55  253062           10.0      0.000000           0.0            40.0\n",
      "18080   47  354148           15.0     11.512915           0.0            48.0\n",
      "10354   27   43652           13.0      0.000000           0.0            40.0\n",
      "24639   18   25837            9.0      0.000000           0.0            32.5\n",
      "\n",
      "[6513 rows x 6 columns]\n"
     ]
    }
   ],
   "source": [
    "print(X_train_cat)\n",
    "print(X_test_cat)\n",
    "print(X_train_num)\n",
    "print(X_test_num)"
   ]
  },
  {
   "cell_type": "code",
   "execution_count": 69,
   "id": "2cf2460f",
   "metadata": {},
   "outputs": [
    {
     "name": "stdout",
     "output_type": "stream",
     "text": [
      "age               0\n",
      "workclass         0\n",
      "fnlwgt            0\n",
      "education         0\n",
      "education_num     0\n",
      "marital_status    0\n",
      "occupation        0\n",
      "relationship      0\n",
      "race              0\n",
      "sex               0\n",
      "capital_gain      0\n",
      "capital_loss      0\n",
      "hours_per_week    0\n",
      "native_country    0\n",
      "dtype: int64\n",
      "workclass         0\n",
      "education         0\n",
      "marital_status    0\n",
      "occupation        0\n",
      "relationship      0\n",
      "race              0\n",
      "sex               0\n",
      "native_country    0\n",
      "dtype: int64\n",
      "age               0\n",
      "fnlwgt            0\n",
      "education_num     0\n",
      "capital_gain      0\n",
      "capital_loss      0\n",
      "hours_per_week    0\n",
      "dtype: int64\n",
      "workclass         0\n",
      "education         0\n",
      "marital_status    0\n",
      "occupation        0\n",
      "relationship      0\n",
      "race              0\n",
      "sex               0\n",
      "native_country    0\n",
      "dtype: int64\n",
      "age               0\n",
      "fnlwgt            0\n",
      "education_num     0\n",
      "capital_gain      0\n",
      "capital_loss      0\n",
      "hours_per_week    0\n",
      "dtype: int64\n"
     ]
    }
   ],
   "source": [
    "# preprocessing or encoding for categorical and numerical data\n",
    "print(X_train.isnull().sum())\n",
    "print(X_train_cat.isnull().sum())\n",
    "print(X_train_num.isnull().sum())\n",
    "print(X_test_cat.isnull().sum())\n",
    "print(X_test_num.isnull().sum())"
   ]
  },
  {
   "cell_type": "markdown",
   "id": "ae9c1ded",
   "metadata": {},
   "source": [
    "# ORDINAL ENCODER"
   ]
  },
  {
   "cell_type": "code",
   "execution_count": 70,
   "id": "a90c5a3d",
   "metadata": {},
   "outputs": [],
   "source": [
    "# preprocesing ordinal encoder for categorical train and test data\n",
    "\n",
    "OE=OrdinalEncoder()\n",
    "OE.fit(X_train_cat)\n",
    "X_train_cat_enc=OE.transform(X_train_cat)\n",
    "\n",
    "OE.fit(X_test_cat)\n",
    "X_test_cat_enc=OE.transform(X_test_cat)\n"
   ]
  },
  {
   "cell_type": "code",
   "execution_count": 71,
   "id": "f4559cb1",
   "metadata": {},
   "outputs": [
    {
     "name": "stdout",
     "output_type": "stream",
     "text": [
      "[[ 2.  9.  4. ...  4.  0. 39.]\n",
      " [ 4.  8.  2. ...  4.  1. 39.]\n",
      " [ 6.  6.  5. ...  4.  1. 39.]\n",
      " ...\n",
      " [ 4.  1.  4. ...  4.  0. 39.]\n",
      " [ 6. 11.  2. ...  4.  1. 39.]\n",
      " [ 5.  9.  0. ...  4.  1. 39.]]\n",
      "[[ 3. 15.  0. ...  4.  0. 37.]\n",
      " [ 6. 11.  2. ...  4.  0. 37.]\n",
      " [ 3.  9.  2. ...  2.  1. 37.]\n",
      " ...\n",
      " [ 3. 14.  2. ...  4.  1. 37.]\n",
      " [ 3.  9.  4. ...  4.  0. 37.]\n",
      " [ 3. 11.  4. ...  4.  1. 37.]]\n"
     ]
    }
   ],
   "source": [
    "print(X_train_cat_enc)\n",
    "print(X_test_cat_enc)"
   ]
  },
  {
   "cell_type": "markdown",
   "id": "45233a32",
   "metadata": {},
   "source": [
    "# STANDARD SCALER"
   ]
  },
  {
   "cell_type": "code",
   "execution_count": 73,
   "id": "e4cc7991",
   "metadata": {},
   "outputs": [],
   "source": [
    "# preprocessing on numerical test data\n",
    "\n",
    "SS=StandardScaler()\n",
    "SS.fit(X_train_num)\n",
    "X_train_num_enc=SS.transform(X_train_num)\n",
    "\n",
    "SS.fit(X_test_num)\n",
    "X_test_num_enc=SS.transform(X_test_num)"
   ]
  },
  {
   "cell_type": "code",
   "execution_count": 74,
   "id": "a300ff0d",
   "metadata": {},
   "outputs": [
    {
     "name": "stdout",
     "output_type": "stream",
     "text": [
      "[[-0.40875606  0.08005085  1.16894717 -0.29703885  0.          1.43051047]\n",
      " [-0.1888573  -0.98165286  0.35569051 -0.29703885  0.          1.43051047]\n",
      " [ 1.42373357  0.126197   -2.08407946 -0.29703885  0.         -0.1890949 ]\n",
      " ...\n",
      " [-1.50824984  0.25206312 -1.2708228  -0.29703885  0.         -1.40379892]\n",
      " [ 0.83733689 -1.28762772 -0.45756615 -0.29703885  0.          1.83541181]\n",
      " [-0.33545648 -0.59020877  1.16894717 -0.29703885  0.          1.83541181]]\n",
      "[[-0.85119097 -0.27785295 -0.04896209 -0.30808483  0.         -0.53602324]\n",
      " [ 0.4693744  -1.30409    -0.4551915  -0.30808483  0.         -0.21525149]\n",
      " [-0.70446149 -0.03695487  1.16972614 -0.30808483  0.          1.78957196]\n",
      " ...\n",
      " [ 0.61610389  1.53819835  1.98218496  4.27583217  0.          1.06783552]\n",
      " [-0.85119097 -1.36883194  1.16972614 -0.30808483  0.         -0.21525149]\n",
      " [-1.51147366 -1.53562554 -0.4551915  -0.30808483  0.         -1.41814556]]\n"
     ]
    }
   ],
   "source": [
    "print(X_train_num_enc)\n",
    "print(X_test_num_enc)"
   ]
  },
  {
   "cell_type": "markdown",
   "id": "b8dddf72",
   "metadata": {},
   "source": [
    "# LABEL ENCODER"
   ]
  },
  {
   "cell_type": "code",
   "execution_count": 75,
   "id": "62a44d3a",
   "metadata": {},
   "outputs": [],
   "source": [
    "LE=LabelEncoder()\n",
    "LE.fit(y_train)\n",
    "y_train_enc=LE.transform(y_train)\n",
    "\n",
    "LE.fit(y_test)\n",
    "y_test_enc=LE.transform(y_test)\n"
   ]
  },
  {
   "cell_type": "markdown",
   "id": "1058fa34",
   "metadata": {},
   "source": [
    "# CONCAT TRAIN AND TEST NUMERICAL AND CATEGORICAL DATA "
   ]
  },
  {
   "cell_type": "code",
   "execution_count": 77,
   "id": "43adf794",
   "metadata": {},
   "outputs": [],
   "source": [
    "X_train_cat_enc_df=pd.DataFrame(X_train_cat_enc)\n",
    "X_train_num_enc_df=pd.DataFrame(X_train_num_enc)\n",
    "X_train_final=pd.concat([X_train_cat_enc_df,X_train_num_enc_df],axis=1)"
   ]
  },
  {
   "cell_type": "code",
   "execution_count": 78,
   "id": "b39c7748",
   "metadata": {},
   "outputs": [],
   "source": [
    "X_test_cat_enc_df=pd.DataFrame(X_test_cat_enc)\n",
    "X_test_num_enc_df=pd.DataFrame(X_test_num_enc)\n",
    "X_test_final=pd.concat([X_test_cat_enc_df,X_test_num_enc_df],axis=1)"
   ]
  },
  {
   "cell_type": "markdown",
   "id": "e9beb0f4",
   "metadata": {},
   "source": [
    "# MODEL BUILDING AND PREDICTION"
   ]
  },
  {
   "cell_type": "code",
   "execution_count": 82,
   "id": "8ee354d5",
   "metadata": {},
   "outputs": [],
   "source": [
    "model=LogisticRegression(solver='liblinear')\n",
    "model.fit(X_train_final,y_train_enc)\n",
    "y_pred=model.predict(X_test_final)\n",
    "from sklearn.metrics import classification_report , accuracy_score , recall_score, f1_score , precision_score , confusion_matrix"
   ]
  },
  {
   "cell_type": "code",
   "execution_count": 83,
   "id": "de6f63f1",
   "metadata": {},
   "outputs": [
    {
     "name": "stdout",
     "output_type": "stream",
     "text": [
      "[0 0 0 ... 1 0 0]\n"
     ]
    }
   ],
   "source": [
    "print(y_pred)"
   ]
  },
  {
   "cell_type": "markdown",
   "id": "65b2f365",
   "metadata": {},
   "source": [
    "# MODEL EVALUATION"
   ]
  },
  {
   "cell_type": "code",
   "execution_count": 84,
   "id": "b908c96d",
   "metadata": {},
   "outputs": [
    {
     "name": "stdout",
     "output_type": "stream",
     "text": [
      "0.8226623675725472\n"
     ]
    }
   ],
   "source": [
    "ACCURACY=accuracy_score(y_pred,y_test_enc)\n",
    "print(ACCURACY)"
   ]
  },
  {
   "cell_type": "code",
   "execution_count": 85,
   "id": "1e0a4423",
   "metadata": {},
   "outputs": [
    {
     "name": "stdout",
     "output_type": "stream",
     "text": [
      "0.7015503875968992\n"
     ]
    }
   ],
   "source": [
    "RECALL=recall_score(y_pred,y_test_enc)\n",
    "print(RECALL)"
   ]
  },
  {
   "cell_type": "code",
   "execution_count": 86,
   "id": "cb5d3528",
   "metadata": {},
   "outputs": [
    {
     "name": "stdout",
     "output_type": "stream",
     "text": [
      "0.5562812139838649\n"
     ]
    }
   ],
   "source": [
    "F1SCORE=f1_score(y_pred,y_test_enc)\n",
    "print(F1SCORE)"
   ]
  },
  {
   "cell_type": "code",
   "execution_count": 87,
   "id": "36eb1154",
   "metadata": {},
   "outputs": [
    {
     "name": "stdout",
     "output_type": "stream",
     "text": [
      "0.46085295989815406\n"
     ]
    }
   ],
   "source": [
    "PRECISION=precision_score(y_pred,y_test_enc)\n",
    "print(PRECISION)"
   ]
  },
  {
   "cell_type": "code",
   "execution_count": 88,
   "id": "2dd67a43",
   "metadata": {},
   "outputs": [
    {
     "name": "stdout",
     "output_type": "stream",
     "text": [
      "              precision    recall  f1-score   support\n",
      "\n",
      "           0       0.94      0.85      0.89      5481\n",
      "           1       0.46      0.70      0.56      1032\n",
      "\n",
      "    accuracy                           0.82      6513\n",
      "   macro avg       0.70      0.77      0.72      6513\n",
      "weighted avg       0.86      0.82      0.84      6513\n",
      "\n"
     ]
    }
   ],
   "source": [
    "CLASSIFICATION=classification_report(y_pred,y_test_enc)\n",
    "print(CLASSIFICATION)"
   ]
  },
  {
   "cell_type": "code",
   "execution_count": 89,
   "id": "5aeacd31",
   "metadata": {},
   "outputs": [
    {
     "name": "stdout",
     "output_type": "stream",
     "text": [
      "[[4634  847]\n",
      " [ 308  724]]\n"
     ]
    }
   ],
   "source": [
    "CONFUSION=confusion_matrix(y_pred,y_test_enc)\n",
    "print(CONFUSION)"
   ]
  },
  {
   "cell_type": "code",
   "execution_count": null,
   "id": "2bc5e4d2",
   "metadata": {},
   "outputs": [],
   "source": []
  }
 ],
 "metadata": {
  "kernelspec": {
   "display_name": "Python 3 (ipykernel)",
   "language": "python",
   "name": "python3"
  },
  "language_info": {
   "codemirror_mode": {
    "name": "ipython",
    "version": 3
   },
   "file_extension": ".py",
   "mimetype": "text/x-python",
   "name": "python",
   "nbconvert_exporter": "python",
   "pygments_lexer": "ipython3",
   "version": "3.9.12"
  }
 },
 "nbformat": 4,
 "nbformat_minor": 5
}
